{
 "cells": [
  {
   "cell_type": "code",
   "execution_count": 2,
   "metadata": {},
   "outputs": [
    {
     "name": "stderr",
     "output_type": "stream",
     "text": [
      "<>:34: SyntaxWarning: invalid escape sequence '\\T'\n",
      "<>:34: SyntaxWarning: invalid escape sequence '\\T'\n",
      "<>:34: SyntaxWarning: invalid escape sequence '\\T'\n",
      "<>:34: SyntaxWarning: invalid escape sequence '\\T'\n",
      "<>:34: SyntaxWarning: invalid escape sequence '\\T'\n",
      "<>:34: SyntaxWarning: invalid escape sequence '\\T'\n",
      "C:\\Users\\ACER\\AppData\\Local\\Temp\\ipykernel_13420\\3214188651.py:34: SyntaxWarning: invalid escape sequence '\\T'\n",
      "  prepare_yolo_dataset('D:\\Tugas Kuliah\\Bengkel Koding\\Proyek Virtual Assistance\\Dataset', 'D:\\Tugas Kuliah\\Bengkel Koding\\Proyek Virtual Assistance\\Copied Dataset\\Image', 'D:\\Tugas Kuliah\\Bengkel Koding\\Proyek Virtual Assistance\\Copied Dataset\\Labels')\n",
      "C:\\Users\\ACER\\AppData\\Local\\Temp\\ipykernel_13420\\3214188651.py:34: SyntaxWarning: invalid escape sequence '\\T'\n",
      "  prepare_yolo_dataset('D:\\Tugas Kuliah\\Bengkel Koding\\Proyek Virtual Assistance\\Dataset', 'D:\\Tugas Kuliah\\Bengkel Koding\\Proyek Virtual Assistance\\Copied Dataset\\Image', 'D:\\Tugas Kuliah\\Bengkel Koding\\Proyek Virtual Assistance\\Copied Dataset\\Labels')\n",
      "C:\\Users\\ACER\\AppData\\Local\\Temp\\ipykernel_13420\\3214188651.py:34: SyntaxWarning: invalid escape sequence '\\T'\n",
      "  prepare_yolo_dataset('D:\\Tugas Kuliah\\Bengkel Koding\\Proyek Virtual Assistance\\Dataset', 'D:\\Tugas Kuliah\\Bengkel Koding\\Proyek Virtual Assistance\\Copied Dataset\\Image', 'D:\\Tugas Kuliah\\Bengkel Koding\\Proyek Virtual Assistance\\Copied Dataset\\Labels')\n"
     ]
    }
   ],
   "source": [
    "import os\n",
    "from shutil import copyfile\n",
    "\n",
    "classes = ['Arif', 'Bambang', 'Fernando', 'Luki', 'Naufal', 'Radhit', 'Timotius', 'Yudha']\n",
    "\n",
    "def convert_to_yolo_format(class_id, bbox, img_width, img_height):\n",
    "    # bbox harus dalam format [xmin, ymin, xmax, ymax]\n",
    "    x_center = (bbox[0] + bbox[2]) / 2.0 / img_width\n",
    "    y_center = (bbox[1] + bbox[3]) / 2.0 / img_height\n",
    "    width = (bbox[2] - bbox[0]) / img_width\n",
    "    height = (bbox[3] - bbox[1]) / img_height\n",
    "    return f\"{class_id} {x_center} {y_center} {width} {height}\"\n",
    "\n",
    "def prepare_yolo_dataset(root_dir, output_img_dir, output_label_dir):\n",
    "    for class_id, class_name in enumerate(classes):\n",
    "        class_folder = os.path.join(root_dir, class_name)\n",
    "        for img_file in os.listdir(class_folder):\n",
    "            if img_file.endswith(\".jpg\"):\n",
    "                img_path = os.path.join(class_folder, img_file)\n",
    "                # Simpan gambar ke folder output\n",
    "                copyfile(img_path, os.path.join(output_img_dir, img_file))\n",
    "                \n",
    "                # Contoh bounding box dummy (harus diganti dengan anotasi sebenarnya)\n",
    "                bbox = [50, 50, 200, 200]  # xmin, ymin, xmax, ymax\n",
    "                img_width, img_height = 640, 480  # Sesuaikan ukuran gambar\n",
    "                \n",
    "                # Simpan label ke folder output\n",
    "                label_path = os.path.join(output_label_dir, img_file.replace(\".jpg\", \".txt\"))\n",
    "                with open(label_path, 'w') as label_file:\n",
    "                    yolo_label = convert_to_yolo_format(class_id, bbox, img_width, img_height)\n",
    "                    label_file.write(yolo_label)\n",
    "\n",
    "# Eksekusi fungsi untuk mempersiapkan dataset\n",
    "prepare_yolo_dataset('D:\\Tugas Kuliah\\Bengkel Koding\\Proyek Virtual Assistance\\Dataset', 'D:\\Tugas Kuliah\\Bengkel Koding\\Proyek Virtual Assistance\\Copied Dataset\\Image', 'D:\\Tugas Kuliah\\Bengkel Koding\\Proyek Virtual Assistance\\Copied Dataset\\Labels')\n"
   ]
  },
  {
   "cell_type": "code",
   "execution_count": 3,
   "metadata": {},
   "outputs": [
    {
     "name": "stdout",
     "output_type": "stream",
     "text": [
      "False\n"
     ]
    }
   ],
   "source": [
    "import torch\n",
    "print(torch.cuda.is_available())  # Ini harus mengembalikan True jika CUDA tersedia\n"
   ]
  }
 ],
 "metadata": {
  "kernelspec": {
   "display_name": "base",
   "language": "python",
   "name": "python3"
  },
  "language_info": {
   "codemirror_mode": {
    "name": "ipython",
    "version": 3
   },
   "file_extension": ".py",
   "mimetype": "text/x-python",
   "name": "python",
   "nbconvert_exporter": "python",
   "pygments_lexer": "ipython3",
   "version": "3.12.4"
  }
 },
 "nbformat": 4,
 "nbformat_minor": 2
}
